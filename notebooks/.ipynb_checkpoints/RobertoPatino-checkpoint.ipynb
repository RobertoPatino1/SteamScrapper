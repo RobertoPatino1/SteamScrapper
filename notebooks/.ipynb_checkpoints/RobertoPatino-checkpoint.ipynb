{
 "cells": [
  {
   "cell_type": "code",
   "execution_count": 9,
   "id": "60b88cd2-413e-452a-af2e-b96fc9934858",
   "metadata": {},
   "outputs": [
    {
     "name": "stdout",
     "output_type": "stream",
     "text": [
      "Defaulting to user installation because normal site-packages is not writeable\n",
      "Requirement already satisfied: matplotlib in /home/roberto/.local/lib/python3.11/site-packages (3.8.2)\n",
      "Requirement already satisfied: contourpy>=1.0.1 in /home/roberto/.local/lib/python3.11/site-packages (from matplotlib) (1.2.0)\n",
      "Requirement already satisfied: cycler>=0.10 in /home/roberto/.local/lib/python3.11/site-packages (from matplotlib) (0.12.1)\n",
      "Requirement already satisfied: fonttools>=4.22.0 in /home/roberto/.local/lib/python3.11/site-packages (from matplotlib) (4.47.2)\n",
      "Requirement already satisfied: kiwisolver>=1.3.1 in /home/roberto/.local/lib/python3.11/site-packages (from matplotlib) (1.4.5)\n",
      "Requirement already satisfied: numpy<2,>=1.21 in /usr/lib/python3.11/site-packages (from matplotlib) (1.26.3)\n",
      "Requirement already satisfied: packaging>=20.0 in /usr/lib/python3.11/site-packages (from matplotlib) (23.2)\n",
      "Requirement already satisfied: pillow>=8 in /home/roberto/.local/lib/python3.11/site-packages (from matplotlib) (10.2.0)\n",
      "Requirement already satisfied: pyparsing>=2.3.1 in /home/roberto/.local/lib/python3.11/site-packages (from matplotlib) (3.1.1)\n",
      "Requirement already satisfied: python-dateutil>=2.7 in /usr/lib/python3.11/site-packages (from matplotlib) (2.8.2)\n",
      "Requirement already satisfied: six>=1.5 in /usr/lib/python3.11/site-packages (from python-dateutil>=2.7->matplotlib) (1.16.0)\n",
      "Note: you may need to restart the kernel to use updated packages.\n"
     ]
    }
   ],
   "source": [
    "pip install matplotlib"
   ]
  },
  {
   "cell_type": "code",
   "execution_count": 2,
   "id": "9c493de8-4b3d-4e8f-8c15-4fa6b4373665",
   "metadata": {},
   "outputs": [],
   "source": [
    "import numpy as np\n",
    "import pandas as pd\n",
    "import matplotlib.pyplot as plt"
   ]
  },
  {
   "cell_type": "code",
   "execution_count": 9,
   "id": "ba6339ce-e63b-4ed3-b0ee-d69e0cbd4c41",
   "metadata": {},
   "outputs": [
    {
     "name": "stdout",
     "output_type": "stream",
     "text": [
      "                             Titulo Fecha de lanzamiento  Precio  \\\n",
      "0                   Baldur's Gate 3          3 Aug, 2023   34.99   \n",
      "1                  Counter-Strike 2         21 Aug, 2012    0.00   \n",
      "2                    Lethal Company         23 Oct, 2023    5.79   \n",
      "3                     Apex Legends™          4 Nov, 2020    0.00   \n",
      "4               PUBG: BATTLEGROUNDS         21 Dec, 2017    0.00   \n",
      "..                              ...                  ...     ...   \n",
      "95               Crusader Kings III          1 Sep, 2020   29.99   \n",
      "96                       Sunkenland         25 Aug, 2023   19.99   \n",
      "97        Mafia: Definitive Edition         24 Sep, 2020    9.99   \n",
      "98                  Riders Republic          8 Jun, 2023    7.99   \n",
      "99  Granblue Fantasy Versus: Rising         13 Dec, 2023   49.99   \n",
      "\n",
      "      Plataformas  Total de Reviews  \n",
      "0         win-mac          480341.0  \n",
      "1       win-linux          834609.0  \n",
      "2             win          228501.0  \n",
      "3             win          780623.0  \n",
      "4             win          284621.0  \n",
      "..            ...               ...  \n",
      "95  win-mac-linux           66040.0  \n",
      "96            win           13351.0  \n",
      "97            win           52513.0  \n",
      "98            win           10309.0  \n",
      "99            win            2120.0  \n",
      "\n",
      "[100 rows x 5 columns]\n"
     ]
    }
   ],
   "source": [
    "df = pd.read_csv(\"../games.csv\")\n",
    "# Cleaning the data\n",
    "df['Precio'] = df['Precio'].str.replace('$',\"\",regex=False)\n",
    "df['Precio'] = df['Precio'].str.replace(\"Free\",\"0.00\",regex=False)\n",
    "df['Precio'] = df['Precio'].astype(float)\n",
    "print(df)"
   ]
  },
  {
   "cell_type": "code",
   "execution_count": 10,
   "id": "c46858d1-74f7-48e0-8388-67c124aeec23",
   "metadata": {},
   "outputs": [
    {
     "ename": "NameError",
     "evalue": "name 'paltforms' is not defined",
     "output_type": "error",
     "traceback": [
      "\u001b[0;31m---------------------------------------------------------------------------\u001b[0m",
      "\u001b[0;31mNameError\u001b[0m                                 Traceback (most recent call last)",
      "Cell \u001b[0;32mIn[10], line 6\u001b[0m\n\u001b[1;32m      3\u001b[0m     platforms_list \u001b[38;5;241m=\u001b[39m paltforms\u001b[38;5;241m.\u001b[39mstrip()\u001b[38;5;241m.\u001b[39msplit(\u001b[38;5;124m\"\u001b[39m\u001b[38;5;124m-\u001b[39m\u001b[38;5;124m\"\u001b[39m)\n\u001b[1;32m      4\u001b[0m     \u001b[38;5;28;01mreturn\u001b[39;00m platforms_list\n\u001b[0;32m----> 6\u001b[0m \u001b[38;5;28mprint\u001b[39m(\u001b[43mget_platforms\u001b[49m\u001b[43m(\u001b[49m\u001b[38;5;124;43m'\u001b[39;49m\u001b[38;5;124;43mwin-mac-linux\u001b[39;49m\u001b[38;5;124;43m'\u001b[39;49m\u001b[43m)\u001b[49m)\n",
      "Cell \u001b[0;32mIn[10], line 3\u001b[0m, in \u001b[0;36mget_platforms\u001b[0;34m(platforms)\u001b[0m\n\u001b[1;32m      2\u001b[0m \u001b[38;5;28;01mdef\u001b[39;00m \u001b[38;5;21mget_platforms\u001b[39m(platforms:\u001b[38;5;28mstr\u001b[39m)\u001b[38;5;241m-\u001b[39m\u001b[38;5;241m>\u001b[39m[]:\n\u001b[0;32m----> 3\u001b[0m     platforms_list \u001b[38;5;241m=\u001b[39m \u001b[43mpaltforms\u001b[49m\u001b[38;5;241m.\u001b[39mstrip()\u001b[38;5;241m.\u001b[39msplit(\u001b[38;5;124m\"\u001b[39m\u001b[38;5;124m-\u001b[39m\u001b[38;5;124m\"\u001b[39m)\n\u001b[1;32m      4\u001b[0m     \u001b[38;5;28;01mreturn\u001b[39;00m platforms_list\n",
      "\u001b[0;31mNameError\u001b[0m: name 'paltforms' is not defined"
     ]
    }
   ],
   "source": [
    "# Helper function\n",
    "def get_platforms(platforms:str)->[]:\n",
    "    platforms_list = platforms.strip().split(\"-\")\n",
    "    return platforms_list\n",
    "\n",
    "print(get_platforms('win-mac-linux'))"
   ]
  },
  {
   "cell_type": "markdown",
   "id": "fc290195-d891-4068-9cc9-7f3314207671",
   "metadata": {},
   "source": [
    "### 1. ¿Existe una relación entre el precio de los juegos y el número total de reviews?"
   ]
  }
 ],
 "metadata": {
  "kernelspec": {
   "display_name": "Python 3 (ipykernel)",
   "language": "python",
   "name": "python3"
  },
  "language_info": {
   "codemirror_mode": {
    "name": "ipython",
    "version": 3
   },
   "file_extension": ".py",
   "mimetype": "text/x-python",
   "name": "python",
   "nbconvert_exporter": "python",
   "pygments_lexer": "ipython3",
   "version": "3.11.6"
  }
 },
 "nbformat": 4,
 "nbformat_minor": 5
}
